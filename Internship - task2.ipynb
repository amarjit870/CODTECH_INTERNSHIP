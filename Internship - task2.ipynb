{
 "cells": [
  {
   "cell_type": "markdown",
   "id": "dbe11f85",
   "metadata": {},
   "source": [
    "# DEVELOP A SCRIPT THAT READS DATA FROM A FILE, ANALYZES IT, AND GENERATES A FORMATTED PDF REPORT USING LIBRARIES LIKE FPDF OR REPORTLAB"
   ]
  },
  {
   "cell_type": "code",
   "execution_count": 5,
   "id": "8860ed79",
   "metadata": {},
   "outputs": [
    {
     "name": "stdout",
     "output_type": "stream",
     "text": [
      "PDF Report Generated: BMW_Car_Sales_Report.pdf\n"
     ]
    }
   ],
   "source": [
    "import pandas as pd\n",
    "import matplotlib.pyplot as plt\n",
    "import seaborn as sns\n",
    "from fpdf import FPDF\n",
    "import os\n",
    "\n",
    "# Step 1: Load Data\n",
    "file_path = \"C:\\\\Users\\\\amarj\\\\Downloads\\\\archive\\\\BMW_Car_Sales_Classification.csv\"\n",
    "df = pd.read_csv(file_path)\n",
    "\n",
    "# Step 2: Analysis\n",
    "summary = df.describe().T\n",
    "missing_values = df.isnull().sum()\n",
    "correlation_matrix = df.corr()\n",
    "\n",
    "# Save correlation heatmap\n",
    "plt.figure(figsize=(10, 6))\n",
    "sns.heatmap(correlation_matrix, annot=True, cmap=\"coolwarm\")\n",
    "heatmap_file = \"correlation_heatmap.png\"\n",
    "plt.title(\"Correlation Heatmap\")\n",
    "plt.tight_layout()\n",
    "plt.savefig(heatmap_file)\n",
    "plt.close()\n",
    "\n",
    "# Step 3: Generate PDF Report\n",
    "class PDFReport(FPDF):\n",
    "    def header(self):\n",
    "        self.set_font(\"Arial\", \"B\", 16)\n",
    "        self.cell(0, 10, \"BMW Car Sales Analysis Report\", ln=True, align=\"C\")\n",
    "\n",
    "    def chapter_title(self, title):\n",
    "        self.set_font(\"Arial\", \"B\", 12)\n",
    "        self.cell(0, 10, title, ln=True, align=\"L\")\n",
    "\n",
    "    def chapter_body(self, text):\n",
    "        self.set_font(\"Arial\", \"\", 10)\n",
    "        self.multi_cell(0, 10, text)\n",
    "        self.ln()\n",
    "\n",
    "    def add_image(self, image_path, title=\"\"):\n",
    "        self.add_page()\n",
    "        if title:\n",
    "            self.chapter_title(title)\n",
    "        self.image(image_path, x=10, y=30, w=180)\n",
    "\n",
    "# Initialize PDF\n",
    "pdf = PDFReport()\n",
    "pdf.add_page()\n",
    "\n",
    "# Summary Stats\n",
    "pdf.chapter_title(\"1. Data Summary:\")\n",
    "pdf.chapter_body(summary.to_string())\n",
    "\n",
    "# Missing Values\n",
    "pdf.chapter_title(\"2. Missing Values:\")\n",
    "pdf.chapter_body(missing_values.to_string())\n",
    "\n",
    "# Correlation\n",
    "pdf.chapter_title(\"3. Correlation Matrix:\")\n",
    "pdf.chapter_body(correlation_matrix.to_string())\n",
    "\n",
    "# Add Correlation Heatmap\n",
    "pdf.add_image(heatmap_file, \"4. Correlation Heatmap:\")\n",
    "\n",
    "# Save PDF\n",
    "pdf_output = \"BMW_Car_Sales_Report.pdf\"\n",
    "pdf.output(pdf_output)\n",
    "print(f\"PDF Report Generated: {pdf_output}\")\n",
    "\n",
    "# Clean up temp image\n",
    "os.remove(heatmap_file)\n"
   ]
  },
  {
   "cell_type": "code",
   "execution_count": 3,
   "id": "1c296a0b",
   "metadata": {},
   "outputs": [
    {
     "name": "stdout",
     "output_type": "stream",
     "text": [
      "Collecting fpdfNote: you may need to restart the kernel to use updated packages.\n",
      "  Downloading fpdf-1.7.2.tar.gz (39 kB)\n",
      "Building wheels for collected packages: fpdf\n",
      "  Building wheel for fpdf (setup.py): started\n",
      "  Building wheel for fpdf (setup.py): finished with status 'done'\n",
      "\n",
      "  Created wheel for fpdf: filename=fpdf-1.7.2-py2.py3-none-any.whl size=40723 sha256=8851cf221c90ed23ac1b698151dc0ac19a0a13346e2c18d972dc31fae32955a0\n",
      "  Stored in directory: c:\\users\\amarj\\appdata\\local\\pip\\cache\\wheels\\44\\35\\8b\\86ce00cec7e4d13c5f189680ae0fa82f919bedc066c2cddae9\n",
      "Successfully built fpdf\n",
      "Installing collected packages: fpdf\n",
      "Successfully installed fpdf-1.7.2\n"
     ]
    }
   ],
   "source": [
    "pip install fpdf"
   ]
  }
 ],
 "metadata": {
  "kernelspec": {
   "display_name": "Python 3 (ipykernel)",
   "language": "python",
   "name": "python3"
  },
  "language_info": {
   "codemirror_mode": {
    "name": "ipython",
    "version": 3
   },
   "file_extension": ".py",
   "mimetype": "text/x-python",
   "name": "python",
   "nbconvert_exporter": "python",
   "pygments_lexer": "ipython3",
   "version": "3.9.12"
  }
 },
 "nbformat": 4,
 "nbformat_minor": 5
}
