{
 "cells": [
  {
   "cell_type": "markdown",
   "id": "38c187ae",
   "metadata": {},
   "source": [
    "# BUILD A CHATBOT USING NATURAL LANGUAGE PROCESSING LIBRARIES LIKE NLTK OR SPACY, CAPABLE OF ANSWERING USER QUERIES."
   ]
  },
  {
   "cell_type": "code",
   "execution_count": 1,
   "id": "5dda30a2",
   "metadata": {},
   "outputs": [],
   "source": [
    "import nltk\n",
    "from nltk.chat.util import Chat, reflections"
   ]
  },
  {
   "cell_type": "code",
   "execution_count": 3,
   "id": "19a44ac0",
   "metadata": {},
   "outputs": [
    {
     "name": "stderr",
     "output_type": "stream",
     "text": [
      "[nltk_data] Downloading package punkt to\n",
      "[nltk_data]     C:\\Users\\amarj\\AppData\\Roaming\\nltk_data...\n",
      "[nltk_data]   Package punkt is already up-to-date!\n"
     ]
    },
    {
     "data": {
      "text/plain": [
       "True"
      ]
     },
     "execution_count": 3,
     "metadata": {},
     "output_type": "execute_result"
    }
   ],
   "source": [
    "# Download if not already done\n",
    "nltk.download('punkt')"
   ]
  },
  {
   "cell_type": "code",
   "execution_count": 5,
   "id": "c4c6dff8",
   "metadata": {},
   "outputs": [],
   "source": [
    "# Define pairs of patterns and responses\n",
    "pairs = [\n",
    "    [\n",
    "        r\"hi|hello|hey\",\n",
    "        [\"Hello!\", \"Hi there!\", \"Hey! How can I help you?\"]\n",
    "    ],\n",
    "    [\n",
    "        r\"what is your name?\",\n",
    "        [\"I'm a simple NLP chatbot created using NLTK.\"]\n",
    "    ],\n",
    "    [\n",
    "        r\"how are you ?\",\n",
    "        [\"I'm doing good. How about you?\"]\n",
    "    ],\n",
    "    [\n",
    "        r\"(.*) your name ?\",\n",
    "        [\"I'm just a chatbot without a name.\"]\n",
    "    ],\n",
    "    [\n",
    "        r\"(.*) (created|made) you?\",\n",
    "        [\"I was created by a Python developer using NLTK.\"]\n",
    "    ],\n",
    "    [\n",
    "        r\"quit\",\n",
    "        [\"Bye! Take care.\", \"Goodbye!\"]\n",
    "    ],\n",
    "    [\n",
    "        r\"(.*)\",\n",
    "        [\"Sorry, I don't understand that. Could you rephrase it?\"]\n",
    "    ]\n",
    "]\n"
   ]
  },
  {
   "cell_type": "code",
   "execution_count": 7,
   "id": "fc57c5c7",
   "metadata": {},
   "outputs": [],
   "source": [
    "# Create chatbot\n",
    "chatbot = Chat(pairs, reflections)\n"
   ]
  },
  {
   "cell_type": "code",
   "execution_count": 8,
   "id": "c46dca0c",
   "metadata": {},
   "outputs": [
    {
     "data": {
      "text/plain": [
       "<nltk.chat.util.Chat at 0x2c2d57025e0>"
      ]
     },
     "execution_count": 8,
     "metadata": {},
     "output_type": "execute_result"
    }
   ],
   "source": [
    "chatbot "
   ]
  },
  {
   "cell_type": "code",
   "execution_count": 9,
   "id": "dd64563e",
   "metadata": {},
   "outputs": [
    {
     "name": "stdout",
     "output_type": "stream",
     "text": [
      "Hi, I'm your chatbot! Type 'quit' to exit.\n",
      ">quit\n",
      "Bye! Take care.\n"
     ]
    }
   ],
   "source": [
    "# Start conversation\n",
    "print(\"Hi, I'm your chatbot! Type 'quit' to exit.\")\n",
    "chatbot.converse()"
   ]
  }
 ],
 "metadata": {
  "kernelspec": {
   "display_name": "Python 3 (ipykernel)",
   "language": "python",
   "name": "python3"
  },
  "language_info": {
   "codemirror_mode": {
    "name": "ipython",
    "version": 3
   },
   "file_extension": ".py",
   "mimetype": "text/x-python",
   "name": "python",
   "nbconvert_exporter": "python",
   "pygments_lexer": "ipython3",
   "version": "3.9.12"
  }
 },
 "nbformat": 4,
 "nbformat_minor": 5
}
